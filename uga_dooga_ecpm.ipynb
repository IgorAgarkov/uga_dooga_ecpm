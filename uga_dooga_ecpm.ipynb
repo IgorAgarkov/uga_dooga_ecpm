{
 "cells": [
  {
   "cell_type": "markdown",
   "metadata": {},
   "source": [
    "## 1. Общая информация\n",
    "Мобильная игра зарабатывает на показе рекламы. Есть несколько форматов:  \n",
    "int – полноэкранная реклама;  \n",
    "banner – горизонтальный баннер, висит внизу экрана пока юзер играет;  \n",
    "rv – видео, которое юзер смотрит по желанию и за просмотр получает монетки или др. ресурсы. Информация о каждом показе\n",
    "отправляется в аналитику и содержит доход от показа, формат показанной рекламы, рекламную сеть от которой был показ и др. eCPM – доход за 1000 показов рекламы.\n",
    "## 2. Бизнес задача\n",
    "Провести исследование показов рекламы с целью понять на сколько отличается eCPM в зависимости от географии (города) юзера, версии ОС и других параметров. Интересны любые инсайты и находки по eCPM-ам. Этот csv файл содержит информацию о показах рекламы для юзеров США:  \n",
    "[Данные](https://drive.google.com/drive/folders/1bjWlzyXV8ALcoxZYrdNQH6_MOm3nS3Pl?usp=sharing)\n",
    "## 3. Что требуется\n",
    "1. Для каждого формата рекламы:\n",
    "    a. построить распределение средних eCPM-ов юзеров\n",
    "    b. отобразить средние eCPM-ы по городам, версиям ОС\n",
    "    c. отобразить суммарные доходы по городам, версиям ОС\n",
    "2. Учесть статистическую значимость для п.1b (отобразить, отфильтровать незначимое или хотя бы прокомментировать). Объяснить решение.\n",
    "3. Описать наблюдения и вывод по исследованию.\n",
    "\n",
    "## 4. Дополнительные (по желанию)\n",
    "Исследовать:\n",
    "– Какой процент доходов содержит информацию о городе юзера\n",
    "– Зависит ли eCPM от времени дня\n",
    "## 5. Вспомогательная информация\n",
    "Столбец profile_id – id юзера  \n",
    "Столбец event_json содержит данные о событии показа рекламы:  \n",
    "    ad_type – формат рекламы (int, banner или rv)  \n",
    "    placement – когда/где был показ рекламы в игре  \n",
    "    view_index – номер показа конкретного формата рекламы для юзера (не\n",
    "поддерживается для баннеров)  \n",
    "    revenue – доход от конкретного показа рекламы (eCPM = revenue * 1000)  \n",
    "    ads_ltv – накапливающийся доход от рекламы, равен сумме всех revenue\n",
    "юзера  \n",
    "    network_name – рекламная сеть, от которой был показ\n",
    "Остальные столбцы должны быть интуитивно понятны\n",
    "## 6. После выполнения\n",
    "По готовности, опубликуйте Jupyter Notebook с выполненным заданием на\n",
    "github и пришлите ссылку на репозиторий.  \n",
    "При оценке выполненного задания будет оцениваться:  \n",
    "    – на сколько понятно визуализированы данные, хорошо ли выбраны средства для презентации данных (типы диаграмм, таблиц или др.)  \n",
    "    – чистота и понятность кода  \n",
    "    – описания наблюдений в процессе исследования и сделанные выводы  "
   ]
  },
  {
   "cell_type": "code",
   "execution_count": 1,
   "metadata": {},
   "outputs": [],
   "source": [
    "import pandas as pd\n",
    "import json\n",
    "import seaborn as sns\n",
    "from matplotlib import pyplot as plt\n",
    "%matplotlib inline\n",
    "from statsmodels.stats.multicomp import pairwise_tukeyhsd"
   ]
  },
  {
   "cell_type": "code",
   "execution_count": 2,
   "metadata": {},
   "outputs": [
    {
     "data": {
      "text/html": [
       "<div>\n",
       "<style scoped>\n",
       "    .dataframe tbody tr th:only-of-type {\n",
       "        vertical-align: middle;\n",
       "    }\n",
       "\n",
       "    .dataframe tbody tr th {\n",
       "        vertical-align: top;\n",
       "    }\n",
       "\n",
       "    .dataframe thead th {\n",
       "        text-align: right;\n",
       "    }\n",
       "</style>\n",
       "<table border=\"1\" class=\"dataframe\">\n",
       "  <thead>\n",
       "    <tr style=\"text-align: right;\">\n",
       "      <th></th>\n",
       "      <th>profile_id</th>\n",
       "      <th>os_version</th>\n",
       "      <th>device_manufacturer</th>\n",
       "      <th>device_model</th>\n",
       "      <th>device_type</th>\n",
       "      <th>device_locale</th>\n",
       "      <th>event_name</th>\n",
       "      <th>event_json</th>\n",
       "      <th>event_datetime</th>\n",
       "      <th>event_timestamp</th>\n",
       "      <th>event_receive_datetime</th>\n",
       "      <th>event_receive_timestamp</th>\n",
       "      <th>connection_type</th>\n",
       "      <th>operator_name</th>\n",
       "      <th>country_iso_code</th>\n",
       "      <th>city</th>\n",
       "    </tr>\n",
       "  </thead>\n",
       "  <tbody>\n",
       "    <tr>\n",
       "      <th>0</th>\n",
       "      <td>JLjpGzDHBQm</td>\n",
       "      <td>11</td>\n",
       "      <td>Samsung</td>\n",
       "      <td>Galaxy Tab S6</td>\n",
       "      <td>tablet</td>\n",
       "      <td>en_US</td>\n",
       "      <td>c_ad_revenue</td>\n",
       "      <td>{\"ad_type\":\"banner\",\"placement\":\"\",\"view_index...</td>\n",
       "      <td>2022-02-04 20:02:28</td>\n",
       "      <td>1643994148</td>\n",
       "      <td>2022-02-06 17:58:19</td>\n",
       "      <td>1644159499</td>\n",
       "      <td>wifi</td>\n",
       "      <td>NaN</td>\n",
       "      <td>US</td>\n",
       "      <td>Norwalk</td>\n",
       "    </tr>\n",
       "    <tr>\n",
       "      <th>1</th>\n",
       "      <td>JLjpGzDHBQm</td>\n",
       "      <td>11</td>\n",
       "      <td>Samsung</td>\n",
       "      <td>Galaxy Tab S6</td>\n",
       "      <td>tablet</td>\n",
       "      <td>en_US</td>\n",
       "      <td>c_ad_revenue</td>\n",
       "      <td>{\"ad_type\":\"banner\",\"placement\":\"\",\"view_index...</td>\n",
       "      <td>2022-02-04 20:02:45</td>\n",
       "      <td>1643994165</td>\n",
       "      <td>2022-02-06 17:58:19</td>\n",
       "      <td>1644159499</td>\n",
       "      <td>wifi</td>\n",
       "      <td>NaN</td>\n",
       "      <td>US</td>\n",
       "      <td>Norwalk</td>\n",
       "    </tr>\n",
       "    <tr>\n",
       "      <th>2</th>\n",
       "      <td>JLkVacrzHY6</td>\n",
       "      <td>11</td>\n",
       "      <td>Google</td>\n",
       "      <td>Pixel 2</td>\n",
       "      <td>phone</td>\n",
       "      <td>en_US</td>\n",
       "      <td>c_ad_revenue</td>\n",
       "      <td>{\"ad_type\":\"banner\",\"placement\":\"\",\"view_index...</td>\n",
       "      <td>2022-02-05 17:53:05</td>\n",
       "      <td>1644072785</td>\n",
       "      <td>2022-02-06 16:59:29</td>\n",
       "      <td>1644155969</td>\n",
       "      <td>wifi</td>\n",
       "      <td>Verizon</td>\n",
       "      <td>US</td>\n",
       "      <td>Charlotte</td>\n",
       "    </tr>\n",
       "    <tr>\n",
       "      <th>3</th>\n",
       "      <td>JMC6wG3cX0f</td>\n",
       "      <td>10</td>\n",
       "      <td>Samsung</td>\n",
       "      <td>Galaxy S9</td>\n",
       "      <td>phone</td>\n",
       "      <td>en_US</td>\n",
       "      <td>c_ad_revenue</td>\n",
       "      <td>{\"ad_type\":\"int\",\"placement\":\"next_level\",\"vie...</td>\n",
       "      <td>2022-02-06 17:09:01</td>\n",
       "      <td>1644156541</td>\n",
       "      <td>2022-02-06 17:09:24</td>\n",
       "      <td>1644156564</td>\n",
       "      <td>wifi</td>\n",
       "      <td>T-Mobile</td>\n",
       "      <td>US</td>\n",
       "      <td>Cocoa</td>\n",
       "    </tr>\n",
       "    <tr>\n",
       "      <th>4</th>\n",
       "      <td>JLzWWTJfi1b</td>\n",
       "      <td>10</td>\n",
       "      <td>Samsung</td>\n",
       "      <td>Galaxy S9</td>\n",
       "      <td>phone</td>\n",
       "      <td>en_US</td>\n",
       "      <td>c_ad_revenue</td>\n",
       "      <td>{\"ad_type\":\"banner\",\"placement\":\"\",\"view_index...</td>\n",
       "      <td>2022-02-06 17:15:38</td>\n",
       "      <td>1644156938</td>\n",
       "      <td>2022-02-06 17:16:16</td>\n",
       "      <td>1644156976</td>\n",
       "      <td>cell</td>\n",
       "      <td>Verizon</td>\n",
       "      <td>US</td>\n",
       "      <td>NaN</td>\n",
       "    </tr>\n",
       "  </tbody>\n",
       "</table>\n",
       "</div>"
      ],
      "text/plain": [
       "    profile_id os_version device_manufacturer   device_model device_type  \\\n",
       "0  JLjpGzDHBQm         11             Samsung  Galaxy Tab S6      tablet   \n",
       "1  JLjpGzDHBQm         11             Samsung  Galaxy Tab S6      tablet   \n",
       "2  JLkVacrzHY6         11              Google        Pixel 2       phone   \n",
       "3  JMC6wG3cX0f         10             Samsung      Galaxy S9       phone   \n",
       "4  JLzWWTJfi1b         10             Samsung      Galaxy S9       phone   \n",
       "\n",
       "  device_locale    event_name  \\\n",
       "0         en_US  c_ad_revenue   \n",
       "1         en_US  c_ad_revenue   \n",
       "2         en_US  c_ad_revenue   \n",
       "3         en_US  c_ad_revenue   \n",
       "4         en_US  c_ad_revenue   \n",
       "\n",
       "                                          event_json       event_datetime  \\\n",
       "0  {\"ad_type\":\"banner\",\"placement\":\"\",\"view_index...  2022-02-04 20:02:28   \n",
       "1  {\"ad_type\":\"banner\",\"placement\":\"\",\"view_index...  2022-02-04 20:02:45   \n",
       "2  {\"ad_type\":\"banner\",\"placement\":\"\",\"view_index...  2022-02-05 17:53:05   \n",
       "3  {\"ad_type\":\"int\",\"placement\":\"next_level\",\"vie...  2022-02-06 17:09:01   \n",
       "4  {\"ad_type\":\"banner\",\"placement\":\"\",\"view_index...  2022-02-06 17:15:38   \n",
       "\n",
       "   event_timestamp event_receive_datetime  event_receive_timestamp  \\\n",
       "0       1643994148    2022-02-06 17:58:19               1644159499   \n",
       "1       1643994165    2022-02-06 17:58:19               1644159499   \n",
       "2       1644072785    2022-02-06 16:59:29               1644155969   \n",
       "3       1644156541    2022-02-06 17:09:24               1644156564   \n",
       "4       1644156938    2022-02-06 17:16:16               1644156976   \n",
       "\n",
       "  connection_type operator_name country_iso_code       city  \n",
       "0            wifi           NaN               US    Norwalk  \n",
       "1            wifi           NaN               US    Norwalk  \n",
       "2            wifi       Verizon               US  Charlotte  \n",
       "3            wifi      T-Mobile               US      Cocoa  \n",
       "4            cell      Verizon                US        NaN  "
      ]
     },
     "execution_count": 2,
     "metadata": {},
     "output_type": "execute_result"
    }
   ],
   "source": [
    "df = pd.read_csv('us events ad_revenue filtered 03.02-07.02.csv')\n",
    "df.head()"
   ]
  },
  {
   "cell_type": "code",
   "execution_count": 3,
   "metadata": {
    "scrolled": true
   },
   "outputs": [
    {
     "data": {
      "text/plain": [
       "(860079, 16)"
      ]
     },
     "execution_count": 3,
     "metadata": {},
     "output_type": "execute_result"
    }
   ],
   "source": [
    "# размер датасэта\n",
    "df.shape"
   ]
  },
  {
   "cell_type": "code",
   "execution_count": 45,
   "metadata": {},
   "outputs": [
    {
     "data": {
      "text/plain": [
       "profile_id                     14\n",
       "os_version                      0\n",
       "device_manufacturer             0\n",
       "device_model                    0\n",
       "device_type                     0\n",
       "device_locale                   0\n",
       "event_name                      0\n",
       "event_json                      0\n",
       "event_datetime                  0\n",
       "event_timestamp                 0\n",
       "event_receive_datetime          0\n",
       "event_receive_timestamp         0\n",
       "connection_type                 0\n",
       "operator_name               18879\n",
       "country_iso_code                0\n",
       "city                       323708\n",
       "eCPM                            0\n",
       "ad_type                         0\n",
       "revenue                         0\n",
       "Hour                            0\n",
       "dtype: int64"
      ]
     },
     "execution_count": 45,
     "metadata": {},
     "output_type": "execute_result"
    }
   ],
   "source": [
    "df.isna().sum()"
   ]
  },
  {
   "cell_type": "code",
   "execution_count": 49,
   "metadata": {},
   "outputs": [
    {
     "data": {
      "text/plain": [
       "'37.64%'"
      ]
     },
     "execution_count": 49,
     "metadata": {},
     "output_type": "execute_result"
    }
   ],
   "source": [
    "'{:.2%}'.format(df.city.isna().sum() / len(df))"
   ]
  },
  {
   "cell_type": "markdown",
   "metadata": {},
   "source": [
    "Довольно много пропусков по городам."
   ]
  },
  {
   "cell_type": "code",
   "execution_count": 4,
   "metadata": {},
   "outputs": [
    {
     "data": {
      "text/plain": [
       "profile_id                 object\n",
       "os_version                 object\n",
       "device_manufacturer        object\n",
       "device_model               object\n",
       "device_type                object\n",
       "device_locale              object\n",
       "event_name                 object\n",
       "event_json                 object\n",
       "event_datetime             object\n",
       "event_timestamp             int64\n",
       "event_receive_datetime     object\n",
       "event_receive_timestamp     int64\n",
       "connection_type            object\n",
       "operator_name              object\n",
       "country_iso_code           object\n",
       "city                       object\n",
       "dtype: object"
      ]
     },
     "execution_count": 4,
     "metadata": {},
     "output_type": "execute_result"
    }
   ],
   "source": [
    "df.dtypes"
   ]
  },
  {
   "cell_type": "code",
   "execution_count": 5,
   "metadata": {},
   "outputs": [],
   "source": [
    "# переводим колонки со временем в формат времени\n",
    "df[['event_datetime', 'event_receive_datetime']] = df[['event_datetime', 'event_receive_datetime']].apply(pd.to_datetime)"
   ]
  },
  {
   "cell_type": "code",
   "execution_count": 6,
   "metadata": {
    "scrolled": true
   },
   "outputs": [
    {
     "data": {
      "text/plain": [
       "profile_id                         object\n",
       "os_version                         object\n",
       "device_manufacturer                object\n",
       "device_model                       object\n",
       "device_type                        object\n",
       "device_locale                      object\n",
       "event_name                         object\n",
       "event_json                         object\n",
       "event_datetime             datetime64[ns]\n",
       "event_timestamp                     int64\n",
       "event_receive_datetime     datetime64[ns]\n",
       "event_receive_timestamp             int64\n",
       "connection_type                    object\n",
       "operator_name                      object\n",
       "country_iso_code                   object\n",
       "city                               object\n",
       "dtype: object"
      ]
     },
     "execution_count": 6,
     "metadata": {},
     "output_type": "execute_result"
    }
   ],
   "source": [
    "df.dtypes"
   ]
  },
  {
   "cell_type": "code",
   "execution_count": 7,
   "metadata": {},
   "outputs": [
    {
     "data": {
      "text/plain": [
       "{'ad_type': 'banner',\n",
       " 'placement': '',\n",
       " 'view_index': 1,\n",
       " 'session_view_index': 0,\n",
       " 'cur_ticks': 637795729492245130,\n",
       " 'session_length': 705.8807,\n",
       " 'revenue': 0.000510313,\n",
       " 'ads_ltv': 0.487876676518837,\n",
       " 'ecpm_sma': 0.511508107185364,\n",
       " 'normalized_ecpm_sma': 0.511508107185364,\n",
       " 'value': 0.000510313,\n",
       " 'currency': 'USD',\n",
       " 'ad_country_code': 'US',\n",
       " 'network_name': 'Google AdMob',\n",
       " 'ad_unit_id': '64c6b1114ea8c1cc',\n",
       " 'ad_network_placement': 'ca-app-pub-7511632782617496/8825263691',\n",
       " 'creativeId': 'CJ3XirfD5vUCFYPnKAUdG3MOYQ'}"
      ]
     },
     "execution_count": 7,
     "metadata": {},
     "output_type": "execute_result"
    }
   ],
   "source": [
    "# посмотрим как выглядит event_json для отдельной строки\n",
    "json.loads(df.event_json.iloc[0])"
   ]
  },
  {
   "cell_type": "code",
   "execution_count": 8,
   "metadata": {},
   "outputs": [],
   "source": [
    "# создадим колонку eCPM\n",
    "df['eCPM'] = (df\n",
    "                .event_json\n",
    "                .apply(lambda x: json.loads(x)['revenue']) * 1000\n",
    "             )\n",
    "# создадим колонку ad_type\n",
    "df['ad_type'] = (df\n",
    "                .event_json\n",
    "                .apply(lambda x: json.loads(x)['ad_type'])\n",
    "             )\n",
    "# создадим колонку revenue\n",
    "df['revenue'] = (df\n",
    "                .event_json\n",
    "                .apply(lambda x: json.loads(x)['revenue'])\n",
    "             )"
   ]
  },
  {
   "cell_type": "markdown",
   "metadata": {},
   "source": [
    "## 1a. Для каждого типа рекламы построим распределение средних eCPM-ов юзеров"
   ]
  },
  {
   "cell_type": "code",
   "execution_count": 9,
   "metadata": {},
   "outputs": [
    {
     "data": {
      "text/html": [
       "<div>\n",
       "<style scoped>\n",
       "    .dataframe tbody tr th:only-of-type {\n",
       "        vertical-align: middle;\n",
       "    }\n",
       "\n",
       "    .dataframe tbody tr th {\n",
       "        vertical-align: top;\n",
       "    }\n",
       "\n",
       "    .dataframe thead th {\n",
       "        text-align: right;\n",
       "    }\n",
       "</style>\n",
       "<table border=\"1\" class=\"dataframe\">\n",
       "  <thead>\n",
       "    <tr style=\"text-align: right;\">\n",
       "      <th></th>\n",
       "      <th>profile_id</th>\n",
       "      <th>ad_type</th>\n",
       "      <th>eCPM</th>\n",
       "    </tr>\n",
       "  </thead>\n",
       "  <tbody>\n",
       "    <tr>\n",
       "      <th>0</th>\n",
       "      <td>JL00qCZH1HV</td>\n",
       "      <td>banner</td>\n",
       "      <td>3.183940</td>\n",
       "    </tr>\n",
       "    <tr>\n",
       "      <th>1</th>\n",
       "      <td>JL015rw9vmN</td>\n",
       "      <td>banner</td>\n",
       "      <td>1.160748</td>\n",
       "    </tr>\n",
       "    <tr>\n",
       "      <th>2</th>\n",
       "      <td>JL015rw9vmN</td>\n",
       "      <td>int</td>\n",
       "      <td>21.983199</td>\n",
       "    </tr>\n",
       "    <tr>\n",
       "      <th>3</th>\n",
       "      <td>JL01aCdFTJy</td>\n",
       "      <td>banner</td>\n",
       "      <td>0.740097</td>\n",
       "    </tr>\n",
       "    <tr>\n",
       "      <th>4</th>\n",
       "      <td>JL01aCdFTJy</td>\n",
       "      <td>int</td>\n",
       "      <td>11.965651</td>\n",
       "    </tr>\n",
       "  </tbody>\n",
       "</table>\n",
       "</div>"
      ],
      "text/plain": [
       "    profile_id ad_type       eCPM\n",
       "0  JL00qCZH1HV  banner   3.183940\n",
       "1  JL015rw9vmN  banner   1.160748\n",
       "2  JL015rw9vmN     int  21.983199\n",
       "3  JL01aCdFTJy  banner   0.740097\n",
       "4  JL01aCdFTJy     int  11.965651"
      ]
     },
     "execution_count": 9,
     "metadata": {},
     "output_type": "execute_result"
    }
   ],
   "source": [
    "# посчитаем средние eCPM на юзера для каждого типа рекламы\n",
    "eCPM_by_user = (\n",
    "    df\n",
    "        .groupby(['profile_id', 'ad_type'], as_index=False)\n",
    "        .agg({'eCPM': 'mean'}))\n",
    "eCPM_by_user.head()\n"
   ]
  },
  {
   "cell_type": "code",
   "execution_count": 10,
   "metadata": {},
   "outputs": [
    {
     "data": {
      "text/plain": [
       "Text(0, 0.5, 'Вид рекламы')"
      ]
     },
     "execution_count": 10,
     "metadata": {},
     "output_type": "execute_result"
    },
    {
     "data": {
      "image/png": "[encoded data removed]",
      "text/plain": [
       "<Figure size 1440x360 with 1 Axes>"
      ]
     },
     "metadata": {},
     "output_type": "display_data"
    }
   ],
   "source": [
    "sns.set(rc={'figure.figsize': (20,5)})\n",
    "sns.boxplot(data=eCPM_by_user, x='eCPM', y='ad_type')\n",
    "plt.title('Распределение средних eCPM по пользователям для разных видов рекламы', fontsize=20) \n",
    "plt.ylabel('Вид рекламы') "
   ]
  },
  {
   "cell_type": "code",
   "execution_count": 11,
   "metadata": {},
   "outputs": [
    {
     "data": {
      "text/plain": [
       "Text(0.5, 1.0, 'Распределение средних eCPM по пользователям для баннерной рекламы')"
      ]
     },
     "execution_count": 11,
     "metadata": {},
     "output_type": "execute_result"
    },
    {
     "data": {
      "image/png": "[encoded data removed]",
      "text/plain": [
       "<Figure size 1440x360 with 1 Axes>"
      ]
     },
     "metadata": {},
     "output_type": "display_data"
    }
   ],
   "source": [
    "sns.set(rc={'figure.figsize': (20,5)})\n",
    "sns.histplot(data=eCPM_by_user[eCPM_by_user.ad_type=='banner'], x='eCPM')\n",
    "plt.title('Распределение средних eCPM по пользователям для баннерной рекламы', fontsize=20) "
   ]
  },
  {
   "cell_type": "code",
   "execution_count": 12,
   "metadata": {},
   "outputs": [
    {
     "data": {
      "text/plain": [
       "Text(0.5, 1.0, 'Распределение средних eCPM по пользователям для полноэкранной рекламы')"
      ]
     },
     "execution_count": 12,
     "metadata": {},
     "output_type": "execute_result"
    },
    {
     "data": {
      "image/png": "[encoded data removed]",
      "text/plain": [
       "<Figure size 1440x360 with 1 Axes>"
      ]
     },
     "metadata": {},
     "output_type": "display_data"
    }
   ],
   "source": [
    "sns.set(rc={'figure.figsize': (20,5)})\n",
    "sns.histplot(data=eCPM_by_user[eCPM_by_user.ad_type=='int'], x='eCPM')\n",
    "plt.title('Распределение средних eCPM по пользователям для полноэкранной рекламы', fontsize=20) "
   ]
  },
  {
   "cell_type": "code",
   "execution_count": 13,
   "metadata": {},
   "outputs": [
    {
     "data": {
      "text/plain": [
       "Text(0.5, 1.0, 'Распределение средних eCPM по пользователям для видео-рекламы')"
      ]
     },
     "execution_count": 13,
     "metadata": {},
     "output_type": "execute_result"
    },
    {
     "data": {
      "image/png": "[encoded data removed]",
      "text/plain": [
       "<Figure size 1440x360 with 1 Axes>"
      ]
     },
     "metadata": {},
     "output_type": "display_data"
    }
   ],
   "source": [
    "sns.set(rc={'figure.figsize': (20,5)})\n",
    "sns.histplot(data=eCPM_by_user[eCPM_by_user.ad_type=='rv'], x='eCPM')\n",
    "plt.title('Распределение средних eCPM по пользователям для видео-рекламы', fontsize=20) "
   ]
  },
  {
   "cell_type": "markdown",
   "metadata": {},
   "source": [
    "## 1b. Для кадого типа рекламы отобразим средние eCPM-ы по городам, версиям ОС"
   ]
  },
  {
   "cell_type": "code",
   "execution_count": 14,
   "metadata": {},
   "outputs": [
    {
     "data": {
      "text/html": [
       "<div>\n",
       "<style scoped>\n",
       "    .dataframe tbody tr th:only-of-type {\n",
       "        vertical-align: middle;\n",
       "    }\n",
       "\n",
       "    .dataframe tbody tr th {\n",
       "        vertical-align: top;\n",
       "    }\n",
       "\n",
       "    .dataframe thead th {\n",
       "        text-align: right;\n",
       "    }\n",
       "</style>\n",
       "<table border=\"1\" class=\"dataframe\">\n",
       "  <thead>\n",
       "    <tr style=\"text-align: right;\">\n",
       "      <th></th>\n",
       "      <th>city</th>\n",
       "      <th>ad_type</th>\n",
       "      <th>eCPM</th>\n",
       "    </tr>\n",
       "  </thead>\n",
       "  <tbody>\n",
       "    <tr>\n",
       "      <th>0</th>\n",
       "      <td>Aberdeen</td>\n",
       "      <td>banner</td>\n",
       "      <td>0.321518</td>\n",
       "    </tr>\n",
       "    <tr>\n",
       "      <th>1</th>\n",
       "      <td>Aberdeen</td>\n",
       "      <td>int</td>\n",
       "      <td>13.583285</td>\n",
       "    </tr>\n",
       "    <tr>\n",
       "      <th>2</th>\n",
       "      <td>Aberdeen</td>\n",
       "      <td>rv</td>\n",
       "      <td>21.516378</td>\n",
       "    </tr>\n",
       "    <tr>\n",
       "      <th>3</th>\n",
       "      <td>Abilene</td>\n",
       "      <td>banner</td>\n",
       "      <td>0.941283</td>\n",
       "    </tr>\n",
       "    <tr>\n",
       "      <th>4</th>\n",
       "      <td>Abilene</td>\n",
       "      <td>int</td>\n",
       "      <td>50.301282</td>\n",
       "    </tr>\n",
       "  </tbody>\n",
       "</table>\n",
       "</div>"
      ],
      "text/plain": [
       "       city ad_type       eCPM\n",
       "0  Aberdeen  banner   0.321518\n",
       "1  Aberdeen     int  13.583285\n",
       "2  Aberdeen      rv  21.516378\n",
       "3   Abilene  banner   0.941283\n",
       "4   Abilene     int  50.301282"
      ]
     },
     "execution_count": 14,
     "metadata": {},
     "output_type": "execute_result"
    }
   ],
   "source": [
    "# посчитаем средние eCPM по городам для каждого типа рекламы\n",
    "eCPM_by_city = (\n",
    "    df\n",
    "        .groupby(['city', 'ad_type'], as_index=False)\n",
    "        .agg({'eCPM': 'mean'})\n",
    ")\n",
    "eCPM_by_city.head()\n"
   ]
  },
  {
   "cell_type": "code",
   "execution_count": 15,
   "metadata": {},
   "outputs": [
    {
     "data": {
      "text/plain": [
       "Text(0.5, 0, 'Среднее eCPM')"
      ]
     },
     "execution_count": 15,
     "metadata": {},
     "output_type": "execute_result"
    },
    {
     "data": {
      "image/png": "[encoded data removed]",
      "text/plain": [
       "<Figure size 1440x360 with 1 Axes>"
      ]
     },
     "metadata": {},
     "output_type": "display_data"
    }
   ],
   "source": [
    "sns.set(rc={'figure.figsize': (20,5)})\n",
    "sns.barplot(data=eCPM_by_city, x='eCPM', y='ad_type')\n",
    "plt.title('Средние eCPM по городам для разных видов рекламы', fontsize=20) \n",
    "plt.ylabel('Вид рекламы') \n",
    "plt.xlabel('Среднее eCPM') "
   ]
  },
  {
   "cell_type": "code",
   "execution_count": 16,
   "metadata": {},
   "outputs": [
    {
     "data": {
      "text/html": [
       "<div>\n",
       "<style scoped>\n",
       "    .dataframe tbody tr th:only-of-type {\n",
       "        vertical-align: middle;\n",
       "    }\n",
       "\n",
       "    .dataframe tbody tr th {\n",
       "        vertical-align: top;\n",
       "    }\n",
       "\n",
       "    .dataframe thead th {\n",
       "        text-align: right;\n",
       "    }\n",
       "</style>\n",
       "<table border=\"1\" class=\"dataframe\">\n",
       "  <thead>\n",
       "    <tr style=\"text-align: right;\">\n",
       "      <th></th>\n",
       "      <th>eCPM</th>\n",
       "    </tr>\n",
       "    <tr>\n",
       "      <th>ad_type</th>\n",
       "      <th></th>\n",
       "    </tr>\n",
       "  </thead>\n",
       "  <tbody>\n",
       "    <tr>\n",
       "      <th>banner</th>\n",
       "      <td>1.026122</td>\n",
       "    </tr>\n",
       "    <tr>\n",
       "      <th>int</th>\n",
       "      <td>44.829423</td>\n",
       "    </tr>\n",
       "    <tr>\n",
       "      <th>rv</th>\n",
       "      <td>80.532356</td>\n",
       "    </tr>\n",
       "  </tbody>\n",
       "</table>\n",
       "</div>"
      ],
      "text/plain": [
       "              eCPM\n",
       "ad_type           \n",
       "banner    1.026122\n",
       "int      44.829423\n",
       "rv       80.532356"
      ]
     },
     "execution_count": 16,
     "metadata": {},
     "output_type": "execute_result"
    }
   ],
   "source": [
    "# значения средних eCPM по городам для разных видов рекламы\n",
    "eCPM_by_city.groupby('ad_type').agg({'eCPM': 'mean'})"
   ]
  },
  {
   "cell_type": "code",
   "execution_count": 17,
   "metadata": {},
   "outputs": [
    {
     "data": {
      "text/html": [
       "<div>\n",
       "<style scoped>\n",
       "    .dataframe tbody tr th:only-of-type {\n",
       "        vertical-align: middle;\n",
       "    }\n",
       "\n",
       "    .dataframe tbody tr th {\n",
       "        vertical-align: top;\n",
       "    }\n",
       "\n",
       "    .dataframe thead th {\n",
       "        text-align: right;\n",
       "    }\n",
       "</style>\n",
       "<table border=\"1\" class=\"dataframe\">\n",
       "  <thead>\n",
       "    <tr style=\"text-align: right;\">\n",
       "      <th></th>\n",
       "      <th>os_version</th>\n",
       "      <th>ad_type</th>\n",
       "      <th>eCPM</th>\n",
       "    </tr>\n",
       "  </thead>\n",
       "  <tbody>\n",
       "    <tr>\n",
       "      <th>0</th>\n",
       "      <td>10</td>\n",
       "      <td>banner</td>\n",
       "      <td>0.591274</td>\n",
       "    </tr>\n",
       "    <tr>\n",
       "      <th>1</th>\n",
       "      <td>10</td>\n",
       "      <td>int</td>\n",
       "      <td>31.216643</td>\n",
       "    </tr>\n",
       "    <tr>\n",
       "      <th>2</th>\n",
       "      <td>10</td>\n",
       "      <td>rv</td>\n",
       "      <td>53.336882</td>\n",
       "    </tr>\n",
       "    <tr>\n",
       "      <th>3</th>\n",
       "      <td>11</td>\n",
       "      <td>banner</td>\n",
       "      <td>0.592766</td>\n",
       "    </tr>\n",
       "    <tr>\n",
       "      <th>4</th>\n",
       "      <td>11</td>\n",
       "      <td>int</td>\n",
       "      <td>33.468471</td>\n",
       "    </tr>\n",
       "  </tbody>\n",
       "</table>\n",
       "</div>"
      ],
      "text/plain": [
       "  os_version ad_type       eCPM\n",
       "0         10  banner   0.591274\n",
       "1         10     int  31.216643\n",
       "2         10      rv  53.336882\n",
       "3         11  banner   0.592766\n",
       "4         11     int  33.468471"
      ]
     },
     "execution_count": 17,
     "metadata": {},
     "output_type": "execute_result"
    }
   ],
   "source": [
    "# посчитаем средние eCPM по версиям ОС для каждого типа рекламы\n",
    "eCPM_by_os_version = (\n",
    "    df\n",
    "        .groupby(['os_version', 'ad_type'], as_index=False)\n",
    "        .agg({'eCPM': 'mean'})\n",
    ")\n",
    "eCPM_by_os_version.head()"
   ]
  },
  {
   "cell_type": "code",
   "execution_count": 18,
   "metadata": {},
   "outputs": [
    {
     "data": {
      "text/plain": [
       "Text(0.5, 0, 'Среднее eCPM')"
      ]
     },
     "execution_count": 18,
     "metadata": {},
     "output_type": "execute_result"
    },
    {
     "data": {
      "image/png": "[encoded data removed]",
      "text/plain": [
       "<Figure size 1440x360 with 1 Axes>"
      ]
     },
     "metadata": {},
     "output_type": "display_data"
    }
   ],
   "source": [
    "sns.set(rc={'figure.figsize': (20,5)})\n",
    "sns.barplot(data=eCPM_by_os_version, x='eCPM', y='ad_type')\n",
    "plt.title('Средние eCPM по версиям ОС для разных видов рекламы', fontsize=20) \n",
    "plt.ylabel('Вид рекламы') \n",
    "plt.xlabel('Среднее eCPM') "
   ]
  },
  {
   "cell_type": "code",
   "execution_count": 19,
   "metadata": {},
   "outputs": [
    {
     "data": {
      "text/html": [
       "<div>\n",
       "<style scoped>\n",
       "    .dataframe tbody tr th:only-of-type {\n",
       "        vertical-align: middle;\n",
       "    }\n",
       "\n",
       "    .dataframe tbody tr th {\n",
       "        vertical-align: top;\n",
       "    }\n",
       "\n",
       "    .dataframe thead th {\n",
       "        text-align: right;\n",
       "    }\n",
       "</style>\n",
       "<table border=\"1\" class=\"dataframe\">\n",
       "  <thead>\n",
       "    <tr style=\"text-align: right;\">\n",
       "      <th></th>\n",
       "      <th>eCPM</th>\n",
       "    </tr>\n",
       "    <tr>\n",
       "      <th>ad_type</th>\n",
       "      <th></th>\n",
       "    </tr>\n",
       "  </thead>\n",
       "  <tbody>\n",
       "    <tr>\n",
       "      <th>banner</th>\n",
       "      <td>0.406479</td>\n",
       "    </tr>\n",
       "    <tr>\n",
       "      <th>int</th>\n",
       "      <td>24.491810</td>\n",
       "    </tr>\n",
       "    <tr>\n",
       "      <th>rv</th>\n",
       "      <td>43.413864</td>\n",
       "    </tr>\n",
       "  </tbody>\n",
       "</table>\n",
       "</div>"
      ],
      "text/plain": [
       "              eCPM\n",
       "ad_type           \n",
       "banner    0.406479\n",
       "int      24.491810\n",
       "rv       43.413864"
      ]
     },
     "execution_count": 19,
     "metadata": {},
     "output_type": "execute_result"
    }
   ],
   "source": [
    "# значения средних eCPM по версиям ОС для разных видов рекламы\n",
    "eCPM_by_os_version.groupby('ad_type').agg({'eCPM': 'mean'})"
   ]
  },
  {
   "cell_type": "markdown",
   "metadata": {},
   "source": [
    "## 1c. Для кадого типа рекламы отобразить суммарные доходы по городам, версиям ОС"
   ]
  },
  {
   "cell_type": "code",
   "execution_count": 20,
   "metadata": {},
   "outputs": [
    {
     "data": {
      "text/html": [
       "<div>\n",
       "<style scoped>\n",
       "    .dataframe tbody tr th:only-of-type {\n",
       "        vertical-align: middle;\n",
       "    }\n",
       "\n",
       "    .dataframe tbody tr th {\n",
       "        vertical-align: top;\n",
       "    }\n",
       "\n",
       "    .dataframe thead th {\n",
       "        text-align: right;\n",
       "    }\n",
       "</style>\n",
       "<table border=\"1\" class=\"dataframe\">\n",
       "  <thead>\n",
       "    <tr style=\"text-align: right;\">\n",
       "      <th></th>\n",
       "      <th>city</th>\n",
       "      <th>ad_type</th>\n",
       "      <th>revenue</th>\n",
       "    </tr>\n",
       "  </thead>\n",
       "  <tbody>\n",
       "    <tr>\n",
       "      <th>0</th>\n",
       "      <td>Aberdeen</td>\n",
       "      <td>banner</td>\n",
       "      <td>0.030866</td>\n",
       "    </tr>\n",
       "    <tr>\n",
       "      <th>1</th>\n",
       "      <td>Aberdeen</td>\n",
       "      <td>int</td>\n",
       "      <td>0.081500</td>\n",
       "    </tr>\n",
       "    <tr>\n",
       "      <th>2</th>\n",
       "      <td>Aberdeen</td>\n",
       "      <td>rv</td>\n",
       "      <td>0.021516</td>\n",
       "    </tr>\n",
       "    <tr>\n",
       "      <th>3</th>\n",
       "      <td>Abilene</td>\n",
       "      <td>banner</td>\n",
       "      <td>0.043299</td>\n",
       "    </tr>\n",
       "    <tr>\n",
       "      <th>4</th>\n",
       "      <td>Abilene</td>\n",
       "      <td>int</td>\n",
       "      <td>0.402410</td>\n",
       "    </tr>\n",
       "  </tbody>\n",
       "</table>\n",
       "</div>"
      ],
      "text/plain": [
       "       city ad_type   revenue\n",
       "0  Aberdeen  banner  0.030866\n",
       "1  Aberdeen     int  0.081500\n",
       "2  Aberdeen      rv  0.021516\n",
       "3   Abilene  banner  0.043299\n",
       "4   Abilene     int  0.402410"
      ]
     },
     "execution_count": 20,
     "metadata": {},
     "output_type": "execute_result"
    }
   ],
   "source": [
    "# посчитаем суммарные доходы по городам для каждого типа рекламы\n",
    "revenue_by_city = (\n",
    "    df\n",
    "        .groupby(['city', 'ad_type'], as_index=False)\n",
    "        .agg({'revenue': 'sum'})\n",
    ")\n",
    "revenue_by_city.head()"
   ]
  },
  {
   "cell_type": "code",
   "execution_count": 43,
   "metadata": {
    "scrolled": false
   },
   "outputs": [
    {
     "data": {
      "text/plain": [
       "Text(0.5, 0, 'Суммарный доход')"
      ]
     },
     "execution_count": 43,
     "metadata": {},
     "output_type": "execute_result"
    },
    {
     "data": {
      "image/png": "[encoded data removed]",
      "text/plain": [
       "<Figure size 1440x360 with 1 Axes>"
      ]
     },
     "metadata": {},
     "output_type": "display_data"
    }
   ],
   "source": [
    "sns.set(rc={'figure.figsize': (20,5)})\n",
    "sns.barplot(data=revenue_by_city\n",
    "                    .groupby('ad_type', as_index=False)\n",
    "                    .agg({'revenue': 'sum'})\n",
    "                    , x='revenue'\n",
    "                    , y='ad_type')\n",
    "plt.title('Суммарных доход от показа рекламы по городам для разных видов рекламы', fontsize=20) \n",
    "plt.ylabel('Вид рекламы') \n",
    "plt.xlabel('Суммарный доход') "
   ]
  },
  {
   "cell_type": "code",
   "execution_count": 22,
   "metadata": {},
   "outputs": [
    {
     "data": {
      "text/html": [
       "<div>\n",
       "<style scoped>\n",
       "    .dataframe tbody tr th:only-of-type {\n",
       "        vertical-align: middle;\n",
       "    }\n",
       "\n",
       "    .dataframe tbody tr th {\n",
       "        vertical-align: top;\n",
       "    }\n",
       "\n",
       "    .dataframe thead th {\n",
       "        text-align: right;\n",
       "    }\n",
       "</style>\n",
       "<table border=\"1\" class=\"dataframe\">\n",
       "  <thead>\n",
       "    <tr style=\"text-align: right;\">\n",
       "      <th></th>\n",
       "      <th>revenue</th>\n",
       "    </tr>\n",
       "    <tr>\n",
       "      <th>ad_type</th>\n",
       "      <th></th>\n",
       "    </tr>\n",
       "  </thead>\n",
       "  <tbody>\n",
       "    <tr>\n",
       "      <th>banner</th>\n",
       "      <td>372.500397</td>\n",
       "    </tr>\n",
       "    <tr>\n",
       "      <th>int</th>\n",
       "      <td>862.519932</td>\n",
       "    </tr>\n",
       "    <tr>\n",
       "      <th>rv</th>\n",
       "      <td>284.932268</td>\n",
       "    </tr>\n",
       "  </tbody>\n",
       "</table>\n",
       "</div>"
      ],
      "text/plain": [
       "            revenue\n",
       "ad_type            \n",
       "banner   372.500397\n",
       "int      862.519932\n",
       "rv       284.932268"
      ]
     },
     "execution_count": 22,
     "metadata": {},
     "output_type": "execute_result"
    }
   ],
   "source": [
    "# значения суммарного дохода по городам для разных видов рекламы\n",
    "revenue_by_city.groupby('ad_type').agg({'revenue': 'sum'})"
   ]
  },
  {
   "cell_type": "code",
   "execution_count": 24,
   "metadata": {},
   "outputs": [
    {
     "data": {
      "text/plain": [
       "Text(0.5, 0, 'Суммарный доход')"
      ]
     },
     "execution_count": 24,
     "metadata": {},
     "output_type": "execute_result"
    },
    {
     "data": {
      "image/png": "[encoded data removed]",
      "text/plain": [
       "<Figure size 1440x360 with 1 Axes>"
      ]
     },
     "metadata": {},
     "output_type": "display_data"
    }
   ],
   "source": [
    "sns.set(rc={'figure.figsize': (20,5)})\n",
    "sns.barplot(data=revenue_by_os_version\n",
    "                    .groupby('ad_type', as_index=False)\n",
    "                    .agg({'revenue': 'sum'})\n",
    "                    , x='revenue'\n",
    "                    , y='ad_type'\n",
    "                    , estimator=sum)\n",
    "plt.title('Суммарных доход от показа рекламы по версиям ОС для разных видов рекламы', fontsize=20) \n",
    "plt.ylabel('Вид рекламы') \n",
    "plt.xlabel('Суммарный доход')"
   ]
  },
  {
   "cell_type": "code",
   "execution_count": 23,
   "metadata": {},
   "outputs": [
    {
     "data": {
      "text/html": [
       "<div>\n",
       "<style scoped>\n",
       "    .dataframe tbody tr th:only-of-type {\n",
       "        vertical-align: middle;\n",
       "    }\n",
       "\n",
       "    .dataframe tbody tr th {\n",
       "        vertical-align: top;\n",
       "    }\n",
       "\n",
       "    .dataframe thead th {\n",
       "        text-align: right;\n",
       "    }\n",
       "</style>\n",
       "<table border=\"1\" class=\"dataframe\">\n",
       "  <thead>\n",
       "    <tr style=\"text-align: right;\">\n",
       "      <th></th>\n",
       "      <th>os_version</th>\n",
       "      <th>ad_type</th>\n",
       "      <th>revenue</th>\n",
       "    </tr>\n",
       "  </thead>\n",
       "  <tbody>\n",
       "    <tr>\n",
       "      <th>0</th>\n",
       "      <td>10</td>\n",
       "      <td>banner</td>\n",
       "      <td>85.002788</td>\n",
       "    </tr>\n",
       "    <tr>\n",
       "      <th>1</th>\n",
       "      <td>10</td>\n",
       "      <td>int</td>\n",
       "      <td>191.795052</td>\n",
       "    </tr>\n",
       "    <tr>\n",
       "      <th>2</th>\n",
       "      <td>10</td>\n",
       "      <td>rv</td>\n",
       "      <td>51.470091</td>\n",
       "    </tr>\n",
       "    <tr>\n",
       "      <th>3</th>\n",
       "      <td>11</td>\n",
       "      <td>banner</td>\n",
       "      <td>116.298348</td>\n",
       "    </tr>\n",
       "    <tr>\n",
       "      <th>4</th>\n",
       "      <td>11</td>\n",
       "      <td>int</td>\n",
       "      <td>363.634932</td>\n",
       "    </tr>\n",
       "  </tbody>\n",
       "</table>\n",
       "</div>"
      ],
      "text/plain": [
       "  os_version ad_type     revenue\n",
       "0         10  banner   85.002788\n",
       "1         10     int  191.795052\n",
       "2         10      rv   51.470091\n",
       "3         11  banner  116.298348\n",
       "4         11     int  363.634932"
      ]
     },
     "execution_count": 23,
     "metadata": {},
     "output_type": "execute_result"
    }
   ],
   "source": [
    "# посчитаем суммарные доходы по версиям ОС для каждого типа рекламы\n",
    "revenue_by_os_version = (\n",
    "    df\n",
    "        .groupby(['os_version', 'ad_type'], as_index=False)\n",
    "        .agg({'revenue': 'sum'})\n",
    ")\n",
    "revenue_by_os_version.head()"
   ]
  },
  {
   "cell_type": "code",
   "execution_count": 24,
   "metadata": {},
   "outputs": [
    {
     "data": {
      "text/plain": [
       "Text(0.5, 0, 'Суммарный доход')"
      ]
     },
     "execution_count": 24,
     "metadata": {},
     "output_type": "execute_result"
    },
    {
     "data": {
      "image/png": "[encoded data removed]",
      "text/plain": [
       "<Figure size 1440x360 with 1 Axes>"
      ]
     },
     "metadata": {},
     "output_type": "display_data"
    }
   ],
   "source": [
    "sns.set(rc={'figure.figsize': (20,5)})\n",
    "sns.barplot(data=revenue_by_os_version\n",
    "                    .groupby('ad_type', as_index=False)\n",
    "                    .agg({'revenue': 'sum'})\n",
    "                    , x='revenue'\n",
    "                    , y='ad_type'\n",
    "                    , estimator=sum)\n",
    "plt.title('Суммарных доход от показа рекламы по версиям ОС для разных видов рекламы', fontsize=20) \n",
    "plt.ylabel('Вид рекламы') \n",
    "plt.xlabel('Суммарный доход')"
   ]
  },
  {
   "cell_type": "code",
   "execution_count": 25,
   "metadata": {},
   "outputs": [
    {
     "data": {
      "text/html": [
       "<div>\n",
       "<style scoped>\n",
       "    .dataframe tbody tr th:only-of-type {\n",
       "        vertical-align: middle;\n",
       "    }\n",
       "\n",
       "    .dataframe tbody tr th {\n",
       "        vertical-align: top;\n",
       "    }\n",
       "\n",
       "    .dataframe thead th {\n",
       "        text-align: right;\n",
       "    }\n",
       "</style>\n",
       "<table border=\"1\" class=\"dataframe\">\n",
       "  <thead>\n",
       "    <tr style=\"text-align: right;\">\n",
       "      <th></th>\n",
       "      <th>revenue</th>\n",
       "    </tr>\n",
       "    <tr>\n",
       "      <th>ad_type</th>\n",
       "      <th></th>\n",
       "    </tr>\n",
       "  </thead>\n",
       "  <tbody>\n",
       "    <tr>\n",
       "      <th>banner</th>\n",
       "      <td>607.184041</td>\n",
       "    </tr>\n",
       "    <tr>\n",
       "      <th>int</th>\n",
       "      <td>1361.952967</td>\n",
       "    </tr>\n",
       "    <tr>\n",
       "      <th>rv</th>\n",
       "      <td>421.661652</td>\n",
       "    </tr>\n",
       "  </tbody>\n",
       "</table>\n",
       "</div>"
      ],
      "text/plain": [
       "             revenue\n",
       "ad_type             \n",
       "banner    607.184041\n",
       "int      1361.952967\n",
       "rv        421.661652"
      ]
     },
     "execution_count": 25,
     "metadata": {},
     "output_type": "execute_result"
    }
   ],
   "source": [
    "# значения суммарного дохода по версиям ОС для разных видов рекламы\n",
    "revenue_by_os_version.groupby('ad_type').agg({'revenue': 'sum'})"
   ]
  },
  {
   "cell_type": "markdown",
   "metadata": {},
   "source": [
    "## 2. Учесть статистическую значимость для п.1b"
   ]
  },
  {
   "cell_type": "code",
   "execution_count": 26,
   "metadata": {},
   "outputs": [
    {
     "data": {
      "text/plain": [
       "Text(0, 0.5, 'Вид рекламы')"
      ]
     },
     "execution_count": 26,
     "metadata": {},
     "output_type": "execute_result"
    },
    {
     "data": {
      "image/png": "[encoded data removed]",
      "text/plain": [
       "<Figure size 1440x360 with 1 Axes>"
      ]
     },
     "metadata": {},
     "output_type": "display_data"
    }
   ],
   "source": [
    "sns.set(rc={'figure.figsize': (20,5)})\n",
    "sns.boxplot(data=eCPM_by_city, x='eCPM', y='ad_type')\n",
    "plt.title('Распределение средних eCPM по городам для разных видов рекламы', fontsize=20) \n",
    "plt.ylabel('Вид рекламы') "
   ]
  },
  {
   "cell_type": "code",
   "execution_count": 27,
   "metadata": {},
   "outputs": [
    {
     "data": {
      "text/plain": [
       "Text(0, 0.5, 'Вид рекламы')"
      ]
     },
     "execution_count": 27,
     "metadata": {},
     "output_type": "execute_result"
    },
    {
     "data": {
      "image/png": "[encoded data removed]",
      "text/plain": [
       "<Figure size 1440x360 with 1 Axes>"
      ]
     },
     "metadata": {},
     "output_type": "display_data"
    }
   ],
   "source": [
    "sns.set(rc={'figure.figsize': (20,5)})\n",
    "sns.boxplot(data=eCPM_by_os_version, x='eCPM', y='ad_type')\n",
    "plt.title('Распределение средних eCPM по версиям ОС для разных видов рекламы', fontsize=20) \n",
    "plt.ylabel('Вид рекламы') "
   ]
  },
  {
   "cell_type": "markdown",
   "metadata": {},
   "source": [
    "Для корректного сравнения средних необходимо избавиться от выбрасов в eCPM_by_city (средних eCPM по городам для разных видов рекламы)."
   ]
  },
  {
   "cell_type": "code",
   "execution_count": 28,
   "metadata": {},
   "outputs": [
    {
     "name": "stdout",
     "output_type": "stream",
     "text": [
      "-0.7764137131308406\n",
      "2.2067509824429115\n"
     ]
    }
   ],
   "source": [
    "# находим границы выбрасов для баннерной рекламы через межквартильный размах\n",
    "q1 = eCPM_by_city.query('ad_type == \"banner\"').eCPM.quantile(0.25) \n",
    "q3 = eCPM_by_city.query('ad_type == \"banner\"').eCPM.quantile(0.75) \n",
    "iqr = q3 - q1\n",
    "outlier_bottom_banner = q1 - 1.5 * iqr  # нижняя граница \n",
    "outlier_up_banner = q3 + 1.5 * iqr      # верхняя граница \n",
    "print(outlier_bottom_banner)             \n",
    "print(outlier_up_banner)"
   ]
  },
  {
   "cell_type": "code",
   "execution_count": 29,
   "metadata": {},
   "outputs": [
    {
     "name": "stdout",
     "output_type": "stream",
     "text": [
      "-29.68499395501328\n",
      "101.2387473251564\n"
     ]
    }
   ],
   "source": [
    "# находим границы выбрасов для полноэкранной рекламы через межквартильный размах\n",
    "q1 = eCPM_by_city.query('ad_type == \"int\"').eCPM.quantile(0.25) \n",
    "q3 = eCPM_by_city.query('ad_type == \"int\"').eCPM.quantile(0.75) \n",
    "iqr = q3 - q1\n",
    "outlier_bottom_int = q1 - 1.5 * iqr  # нижняя граница \n",
    "outlier_up_int = q3 + 1.5 * iqr      # верхняя граница \n",
    "print(outlier_bottom_int)             \n",
    "print(outlier_up_int)"
   ]
  },
  {
   "cell_type": "code",
   "execution_count": 30,
   "metadata": {},
   "outputs": [
    {
     "name": "stdout",
     "output_type": "stream",
     "text": [
      "-86.81130611284053\n",
      "219.9921768547342\n"
     ]
    }
   ],
   "source": [
    "# находим границы выбрасов для видео-рекламы через межквартильный размах\n",
    "q1 = eCPM_by_city.query('ad_type == \"rv\"').eCPM.quantile(0.25) \n",
    "q3 = eCPM_by_city.query('ad_type == \"rv\"').eCPM.quantile(0.75) \n",
    "iqr = q3 - q1\n",
    "outlier_bottom_rv = q1 - 1.5 * iqr  # нижняя граница \n",
    "outlier_up_rv = q3 + 1.5 * iqr      # верхняя граница \n",
    "print(outlier_bottom_rv)             \n",
    "print(outlier_up_rv)"
   ]
  },
  {
   "cell_type": "markdown",
   "metadata": {},
   "source": [
    "Отрицательное нижнее значение выходит за границы наших данных, можно не фильтровать по этой границе."
   ]
  },
  {
   "cell_type": "code",
   "execution_count": 31,
   "metadata": {},
   "outputs": [],
   "source": [
    "# отфильтруем выбросы\n",
    "eCPM_by_city = (\n",
    "    eCPM_by_city\n",
    "        .query('(ad_type == \"banner\" and eCPM <= @outlier_up_banner) or (ad_type == \"int\" and eCPM <= @outlier_up_int) or (ad_type == \"rv\" and eCPM <= @outlier_up_rv)')\n",
    ")"
   ]
  },
  {
   "cell_type": "markdown",
   "metadata": {},
   "source": [
    "При множественном сравнении возрастает вероятности ошибки I рода. Чтобы избежать этого  необходимо применять поправку на множественное сравнение.  \n",
    "Применим Критерий Тьюки для множественного сравнения средних.   \n",
    "H0 - нет различий между сравниваимыми группами, H1 - различия имеются и они стат значимы."
   ]
  },
  {
   "cell_type": "code",
   "execution_count": 32,
   "metadata": {
    "scrolled": true
   },
   "outputs": [
    {
     "name": "stdout",
     "output_type": "stream",
     "text": [
      "Multiple Comparison of Means - Tukey HSD, FWER=0.05\n",
      "===================================================\n",
      "group1 group2 meandiff p-adj  lower   upper  reject\n",
      "---------------------------------------------------\n",
      "banner    int  33.2081 0.001 29.6532 36.7629   True\n",
      "banner     rv  72.6275 0.001 68.4367 76.8182   True\n",
      "   int     rv  39.4194 0.001 35.2608  43.578   True\n",
      "---------------------------------------------------\n"
     ]
    }
   ],
   "source": [
    "# критерий Тьюки для средних eCPM по городам для разных видов рекламы\n",
    "print(pairwise_tukeyhsd(eCPM_by_city.eCPM, eCPM_by_city.ad_type)) "
   ]
  },
  {
   "cell_type": "code",
   "execution_count": 33,
   "metadata": {},
   "outputs": [
    {
     "name": "stdout",
     "output_type": "stream",
     "text": [
      "Multiple Comparison of Means - Tukey HSD, FWER=0.05 \n",
      "====================================================\n",
      "group1 group2 meandiff p-adj   lower   upper  reject\n",
      "----------------------------------------------------\n",
      "banner    int  24.0853 0.0022  8.2409 39.9297   True\n",
      "banner     rv  43.0074  0.001 26.7717 59.2431   True\n",
      "   int     rv  18.9221 0.0197  2.6864 35.1577   True\n",
      "----------------------------------------------------\n"
     ]
    }
   ],
   "source": [
    "# критерий Тьюки для средних eCPM по версиям ОС для разных видов рекламы\n",
    "print(pairwise_tukeyhsd(eCPM_by_os_version.eCPM, eCPM_by_os_version.ad_type)) "
   ]
  },
  {
   "cell_type": "markdown",
   "metadata": {},
   "source": [
    "Как видно по последним колонкам, все нулевые гипотезы были отклонены, поэтому мы делаем вывод, что средние всех трёх групп и по городам и по версиям ОС значимо различаются."
   ]
  },
  {
   "cell_type": "markdown",
   "metadata": {},
   "source": [
    "## 3. Опишем наблюдения и сделаем вывод по исследованию."
   ]
  },
  {
   "cell_type": "markdown",
   "metadata": {},
   "source": [
    "Распределение средних eCPM по городам для разных видов рекламы имеют выбросы в то же время распределение средних по версиям ОС выбрасов не имеют. Это может быть связано с тем, что более высокие значения средних по городам встречаются значительно чаще на определённых версиях ОС.   \n",
    "Почти 38% данных не содержат информации о городе, это может внести некоторые искажения в расчёт. \n",
    "Самым выгодным видом рекламы является полноэкранная, за ней идёт баннерная (не смотря на самые низкие показатели eCPM для всех сравниваемых групп), на последнем месте видео-реклама (не смотря на самые высокие показатели eCPM). \n",
    "Различия средних eCPM по городам и версиям ОС являются статистически значимыми.  "
   ]
  },
  {
   "cell_type": "markdown",
   "metadata": {},
   "source": [
    "## 4. Дополнительные"
   ]
  },
  {
   "cell_type": "markdown",
   "metadata": {},
   "source": [
    "### Какой процент доходов содержит информацию о городе юзера"
   ]
  },
  {
   "cell_type": "code",
   "execution_count": 34,
   "metadata": {},
   "outputs": [
    {
     "data": {
      "text/plain": [
       "'63.58%'"
      ]
     },
     "execution_count": 34,
     "metadata": {},
     "output_type": "execute_result"
    }
   ],
   "source": [
    "# процент доходов, содержащий информацию о городе\n",
    "'{:.2%}'.format(\n",
    "    df[df.city.notna()]\n",
    "        .revenue.sum() / df.revenue.sum()\n",
    "    )"
   ]
  },
  {
   "cell_type": "markdown",
   "metadata": {},
   "source": [
    "### Зависит ли eCPM от времени дня"
   ]
  },
  {
   "cell_type": "markdown",
   "metadata": {},
   "source": [
    "Сгруппируем eCPM по часам и сравним значения."
   ]
  },
  {
   "cell_type": "code",
   "execution_count": 35,
   "metadata": {},
   "outputs": [
    {
     "data": {
      "text/html": [
       "<div>\n",
       "<style scoped>\n",
       "    .dataframe tbody tr th:only-of-type {\n",
       "        vertical-align: middle;\n",
       "    }\n",
       "\n",
       "    .dataframe tbody tr th {\n",
       "        vertical-align: top;\n",
       "    }\n",
       "\n",
       "    .dataframe thead th {\n",
       "        text-align: right;\n",
       "    }\n",
       "</style>\n",
       "<table border=\"1\" class=\"dataframe\">\n",
       "  <thead>\n",
       "    <tr style=\"text-align: right;\">\n",
       "      <th></th>\n",
       "      <th>profile_id</th>\n",
       "      <th>os_version</th>\n",
       "      <th>device_manufacturer</th>\n",
       "      <th>device_model</th>\n",
       "      <th>device_type</th>\n",
       "      <th>device_locale</th>\n",
       "      <th>event_name</th>\n",
       "      <th>event_json</th>\n",
       "      <th>event_datetime</th>\n",
       "      <th>event_timestamp</th>\n",
       "      <th>event_receive_datetime</th>\n",
       "      <th>event_receive_timestamp</th>\n",
       "      <th>connection_type</th>\n",
       "      <th>operator_name</th>\n",
       "      <th>country_iso_code</th>\n",
       "      <th>city</th>\n",
       "      <th>eCPM</th>\n",
       "      <th>ad_type</th>\n",
       "      <th>revenue</th>\n",
       "    </tr>\n",
       "  </thead>\n",
       "  <tbody>\n",
       "    <tr>\n",
       "      <th>0</th>\n",
       "      <td>JLjpGzDHBQm</td>\n",
       "      <td>11</td>\n",
       "      <td>Samsung</td>\n",
       "      <td>Galaxy Tab S6</td>\n",
       "      <td>tablet</td>\n",
       "      <td>en_US</td>\n",
       "      <td>c_ad_revenue</td>\n",
       "      <td>{\"ad_type\":\"banner\",\"placement\":\"\",\"view_index...</td>\n",
       "      <td>2022-02-04 20:02:28</td>\n",
       "      <td>1643994148</td>\n",
       "      <td>2022-02-06 17:58:19</td>\n",
       "      <td>1644159499</td>\n",
       "      <td>wifi</td>\n",
       "      <td>NaN</td>\n",
       "      <td>US</td>\n",
       "      <td>Norwalk</td>\n",
       "      <td>0.510313</td>\n",
       "      <td>banner</td>\n",
       "      <td>0.000510</td>\n",
       "    </tr>\n",
       "    <tr>\n",
       "      <th>1</th>\n",
       "      <td>JLjpGzDHBQm</td>\n",
       "      <td>11</td>\n",
       "      <td>Samsung</td>\n",
       "      <td>Galaxy Tab S6</td>\n",
       "      <td>tablet</td>\n",
       "      <td>en_US</td>\n",
       "      <td>c_ad_revenue</td>\n",
       "      <td>{\"ad_type\":\"banner\",\"placement\":\"\",\"view_index...</td>\n",
       "      <td>2022-02-04 20:02:45</td>\n",
       "      <td>1643994165</td>\n",
       "      <td>2022-02-06 17:58:19</td>\n",
       "      <td>1644159499</td>\n",
       "      <td>wifi</td>\n",
       "      <td>NaN</td>\n",
       "      <td>US</td>\n",
       "      <td>Norwalk</td>\n",
       "      <td>0.510313</td>\n",
       "      <td>banner</td>\n",
       "      <td>0.000510</td>\n",
       "    </tr>\n",
       "    <tr>\n",
       "      <th>2</th>\n",
       "      <td>JLkVacrzHY6</td>\n",
       "      <td>11</td>\n",
       "      <td>Google</td>\n",
       "      <td>Pixel 2</td>\n",
       "      <td>phone</td>\n",
       "      <td>en_US</td>\n",
       "      <td>c_ad_revenue</td>\n",
       "      <td>{\"ad_type\":\"banner\",\"placement\":\"\",\"view_index...</td>\n",
       "      <td>2022-02-05 17:53:05</td>\n",
       "      <td>1644072785</td>\n",
       "      <td>2022-02-06 16:59:29</td>\n",
       "      <td>1644155969</td>\n",
       "      <td>wifi</td>\n",
       "      <td>Verizon</td>\n",
       "      <td>US</td>\n",
       "      <td>Charlotte</td>\n",
       "      <td>2.386163</td>\n",
       "      <td>banner</td>\n",
       "      <td>0.002386</td>\n",
       "    </tr>\n",
       "    <tr>\n",
       "      <th>3</th>\n",
       "      <td>JMC6wG3cX0f</td>\n",
       "      <td>10</td>\n",
       "      <td>Samsung</td>\n",
       "      <td>Galaxy S9</td>\n",
       "      <td>phone</td>\n",
       "      <td>en_US</td>\n",
       "      <td>c_ad_revenue</td>\n",
       "      <td>{\"ad_type\":\"int\",\"placement\":\"next_level\",\"vie...</td>\n",
       "      <td>2022-02-06 17:09:01</td>\n",
       "      <td>1644156541</td>\n",
       "      <td>2022-02-06 17:09:24</td>\n",
       "      <td>1644156564</td>\n",
       "      <td>wifi</td>\n",
       "      <td>T-Mobile</td>\n",
       "      <td>US</td>\n",
       "      <td>Cocoa</td>\n",
       "      <td>13.893784</td>\n",
       "      <td>int</td>\n",
       "      <td>0.013894</td>\n",
       "    </tr>\n",
       "    <tr>\n",
       "      <th>4</th>\n",
       "      <td>JLzWWTJfi1b</td>\n",
       "      <td>10</td>\n",
       "      <td>Samsung</td>\n",
       "      <td>Galaxy S9</td>\n",
       "      <td>phone</td>\n",
       "      <td>en_US</td>\n",
       "      <td>c_ad_revenue</td>\n",
       "      <td>{\"ad_type\":\"banner\",\"placement\":\"\",\"view_index...</td>\n",
       "      <td>2022-02-06 17:15:38</td>\n",
       "      <td>1644156938</td>\n",
       "      <td>2022-02-06 17:16:16</td>\n",
       "      <td>1644156976</td>\n",
       "      <td>cell</td>\n",
       "      <td>Verizon</td>\n",
       "      <td>US</td>\n",
       "      <td>NaN</td>\n",
       "      <td>6.827570</td>\n",
       "      <td>banner</td>\n",
       "      <td>0.006828</td>\n",
       "    </tr>\n",
       "  </tbody>\n",
       "</table>\n",
       "</div>"
      ],
      "text/plain": [
       "    profile_id os_version device_manufacturer   device_model device_type  \\\n",
       "0  JLjpGzDHBQm         11             Samsung  Galaxy Tab S6      tablet   \n",
       "1  JLjpGzDHBQm         11             Samsung  Galaxy Tab S6      tablet   \n",
       "2  JLkVacrzHY6         11              Google        Pixel 2       phone   \n",
       "3  JMC6wG3cX0f         10             Samsung      Galaxy S9       phone   \n",
       "4  JLzWWTJfi1b         10             Samsung      Galaxy S9       phone   \n",
       "\n",
       "  device_locale    event_name  \\\n",
       "0         en_US  c_ad_revenue   \n",
       "1         en_US  c_ad_revenue   \n",
       "2         en_US  c_ad_revenue   \n",
       "3         en_US  c_ad_revenue   \n",
       "4         en_US  c_ad_revenue   \n",
       "\n",
       "                                          event_json      event_datetime  \\\n",
       "0  {\"ad_type\":\"banner\",\"placement\":\"\",\"view_index... 2022-02-04 20:02:28   \n",
       "1  {\"ad_type\":\"banner\",\"placement\":\"\",\"view_index... 2022-02-04 20:02:45   \n",
       "2  {\"ad_type\":\"banner\",\"placement\":\"\",\"view_index... 2022-02-05 17:53:05   \n",
       "3  {\"ad_type\":\"int\",\"placement\":\"next_level\",\"vie... 2022-02-06 17:09:01   \n",
       "4  {\"ad_type\":\"banner\",\"placement\":\"\",\"view_index... 2022-02-06 17:15:38   \n",
       "\n",
       "   event_timestamp event_receive_datetime  event_receive_timestamp  \\\n",
       "0       1643994148    2022-02-06 17:58:19               1644159499   \n",
       "1       1643994165    2022-02-06 17:58:19               1644159499   \n",
       "2       1644072785    2022-02-06 16:59:29               1644155969   \n",
       "3       1644156541    2022-02-06 17:09:24               1644156564   \n",
       "4       1644156938    2022-02-06 17:16:16               1644156976   \n",
       "\n",
       "  connection_type operator_name country_iso_code       city       eCPM  \\\n",
       "0            wifi           NaN               US    Norwalk   0.510313   \n",
       "1            wifi           NaN               US    Norwalk   0.510313   \n",
       "2            wifi       Verizon               US  Charlotte   2.386163   \n",
       "3            wifi      T-Mobile               US      Cocoa  13.893784   \n",
       "4            cell      Verizon                US        NaN   6.827570   \n",
       "\n",
       "  ad_type   revenue  \n",
       "0  banner  0.000510  \n",
       "1  banner  0.000510  \n",
       "2  banner  0.002386  \n",
       "3     int  0.013894  \n",
       "4  banner  0.006828  "
      ]
     },
     "execution_count": 35,
     "metadata": {},
     "output_type": "execute_result"
    }
   ],
   "source": [
    "df.head()"
   ]
  },
  {
   "cell_type": "code",
   "execution_count": 36,
   "metadata": {},
   "outputs": [],
   "source": [
    "# добавим колонку часов\n",
    "df['Hour'] = df.event_datetime.dt.hour"
   ]
  },
  {
   "cell_type": "code",
   "execution_count": 37,
   "metadata": {},
   "outputs": [],
   "source": [
    "# сгруппируем по часам\n",
    "eCPM_by_hours = df. groupby('Hour').agg({'eCPM': 'mean'})"
   ]
  },
  {
   "cell_type": "code",
   "execution_count": 38,
   "metadata": {},
   "outputs": [
    {
     "data": {
      "text/plain": [
       "(0.0, 3.5)"
      ]
     },
     "execution_count": 38,
     "metadata": {},
     "output_type": "execute_result"
    },
    {
     "data": {
      "image/png": "[encoded data removed]",
      "text/plain": [
       "<Figure size 1440x360 with 1 Axes>"
      ]
     },
     "metadata": {},
     "output_type": "display_data"
    }
   ],
   "source": [
    "fig, ax = plt.subplots()\n",
    "sns.lineplot(x=eCPM_by_hours.index, y=\"eCPM\", data=eCPM_by_hours)\n",
    "ax.set_ylim(0, 3.5)"
   ]
  },
  {
   "cell_type": "code",
   "execution_count": 39,
   "metadata": {},
   "outputs": [
    {
     "data": {
      "text/plain": [
       "eCPM    2.431129\n",
       "dtype: float64"
      ]
     },
     "execution_count": 39,
     "metadata": {},
     "output_type": "execute_result"
    }
   ],
   "source": [
    "eCPM_by_hours.min()"
   ]
  },
  {
   "cell_type": "code",
   "execution_count": 40,
   "metadata": {},
   "outputs": [
    {
     "data": {
      "text/plain": [
       "eCPM    3.232273\n",
       "dtype: float64"
      ]
     },
     "execution_count": 40,
     "metadata": {},
     "output_type": "execute_result"
    }
   ],
   "source": [
    "eCPM_by_hours.max()"
   ]
  },
  {
   "cell_type": "markdown",
   "metadata": {},
   "source": [
    "Судя по графику eCPM меняется по часам в течение дня в среднем от 2.4 до 3.2 доллара за 1000 показов."
   ]
  },
  {
   "cell_type": "code",
   "execution_count": null,
   "metadata": {},
   "outputs": [],
   "source": []
  }
 ],
 "metadata": {
  "kernelspec": {
   "display_name": "Python 3",
   "language": "python",
   "name": "python3"
  },
  "language_info": {
   "codemirror_mode": {
    "name": "ipython",
    "version": 3
   },
   "file_extension": ".py",
   "mimetype": "text/x-python",
   "name": "python",
   "nbconvert_exporter": "python",
   "pygments_lexer": "ipython3",
   "version": "3.8.8"
  },
  "vscode": {
   "interpreter": {
    "hash": "0be5f193e2607af3b4c8224388ad9178a279402e8abb53749f1bb82589f62776"
   }
  }
 },
 "nbformat": 4,
 "nbformat_minor": 2
}
